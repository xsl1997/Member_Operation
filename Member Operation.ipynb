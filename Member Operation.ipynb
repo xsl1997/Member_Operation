{
 "cells": [
  {
   "cell_type": "markdown",
   "metadata": {
    "collapsed": true,
    "pycharm": {
     "name": "#%% md\n"
    }
   },
   "source": [
    "# week 01 业务场景中数据化运营的重要性和方法论"
   ]
  },
  {
   "cell_type": "markdown",
   "source": [
    "## day 01 会员数据化运营概述\n",
    "\n",
    "1. 客户关系管理（CRM）\n",
    "**定义：** 客户关系管理（CRM即Customer Relationship Management），这个概念最早来自美国，但是不同的企业对它的定义都是不一样的。有一点是大家公认的：它是指以客户为核心，企业和客户之间在品牌推广、销售产品或提供服务等场景下所产生的各种关系的处理过程，其最终目标就是吸引新客户关注并转化为企业付费用户、提高老客户留存率并帮助转介绍新用户，以此来增加企业的市场份额及利润，增强企业竞争力。\n",
    "**核心：** 吸引新用户，转化新客户为付费用户；留存老用户，促进老用户转介绍新用户。\n",
    "**分析维度：** 做客户管理时要从人、货、场、钱4个维度分析\n",
    "* 人：用户画像、消费能力、商品偏好\n",
    "* 货：进、销、存\n",
    "* 场：感官呈现、经营分析、业绩诊断\n",
    "* 钱：客单价、消费者可支配消费能力\n",
    "\n",
    "2. 一些问题及其解答\n",
    "（1） 会员的生命周期状态是什么？\n",
    "**补充：** [如何进行会员生命周期管理和分析](http://www.huing.net/hygl/rhjxhy.html)\n",
    "【摘要】\n",
    "会员生命周期和会员活跃度挂钩，需要考虑：\n",
    "* 会员增长：“拉新”，要从新增会员数、会员增长率、会员贡献率，有效会员占比来进行数据分析。\n",
    "* 会员流失：要从会员的回购率、流失率、相对会员流失率、流失率权重值来筛选我们的会员，又便于以后做精准的会员活动和用户画像。\n",
    "\n",
    "（2） 会员的核心诉求是什么？\n",
    "**补充：** [会员的核心需求是什么？如何才能把握住会员？](http://www.300vip.cn/article/201511/3802.html)\n",
    "* 商品质量\n",
    "* 会员服务\n",
    "* 会员优惠\n",
    "\n",
    "（3） 会员的转化习惯和路径是什么？\n",
    "**补充：** 流量转化漏斗模型：AIDMA模型、ICVCO模型、AARRR模型\n",
    "[转化漏斗的三个模型](https://www.sohu.com/a/330573922_99992219)\n",
    "[抖音AARRR流量漏斗模型分析 ](https://www.sohu.com/a/242130806_403902)\n",
    "[常用的分析方法及模型](https://www.zhihu.com/question/20117449/answer/1744833913)\n",
    "\n",
    "（4） 会员的价值如何？\n",
    "**补充：** [利用RFM模型衡量会员价值](https://www.frensworkz.com/News/index?id=403)\n",
    "\n",
    "（5） 如何扩大市场覆盖、获得更多的新会员？\n",
    "**补充：** [如何搭建用户生命周期模型？](https://blog.csdn.net/yiguanfangzhou/article/details/93750720?utm_medium=distribute.pc_relevant.none-task-blog-2%7Edefault%7EBlogCommendFromMachineLearnPai2%7Edefault-3.essearch_pc_relevant&depth_1-utm_source=distribute.pc_relevant.none-task-blog-2%7Edefault%7EBlogCommendFromMachineLearnPai2%7Edefault-3.essearch_pc_relevant)\n",
    "\n",
    "（6） 如何更好的维系老会员？\n",
    "**补充：** [商家要怎样维护老会员，维护方法有哪些？](https://www.hishop.com.cn/xls/show_58079.html)\n",
    "\n",
    "（7） 应该在什么时间、采取何种措施、针对哪些会员做哪些运营活动？\n",
    "\n",
    "（8） 在特定运营目标下，应该如何制定会员管理策略（包括行为管理、体验管理、增值服务、信息管理、营销管理、客户关怀等）？\n"
   ],
   "metadata": {
    "collapsed": false
   }
  },
  {
   "cell_type": "markdown",
   "source": [
    "## day 02-05 会员数据化运营关键指标\n",
    "\n",
    "会员**整体指标**、**营销指标**、**活跃度指标**、**价值度指标**、**终生价值指标**和**异动指标**\n",
    "\n",
    "1. 会员整体指标：\n",
    "（1）注册会员数：累积注册会员数、新增注册会员数\n",
    "（2）激活会员数：累积激活会员数、新增激活会员数\n",
    "（3）购买会员数（付费会员数：为企业带来实际利润）：累积购买会员数、新增购买会员数，从而引出相对转化率:注册-购买转化率、激活-购买转化率\n",
    "\n",
    "2. 会员营销指标：\n",
    "（1）可营销会员数\n",
    "（2）营销费用\n",
    "（3）营销收入\n",
    "（4）用券会员/金额/订单比例\n",
    "（5）营销费率\n",
    "（6）每注册/订单/会员收入\n",
    "（7）每注册/订单/会员成本\n",
    "\n",
    "3. 会员活跃度指标：\n",
    "（1）整体会员活跃度：整体会员活跃度=∑（注册*1+登录*1+验证*1+等级数*1+积分*1+…+商品评价*1），会员活跃度矩阵\n",
    "（2）每日/每周/每月活跃用户数\n",
    "\n",
    "4. 会员价值度指标：\n",
    "（1）会员价值分群：用户打标签，该标签是用来显示用户的状态、层级和价值区分等\n",
    "（2）复购率\n",
    "（3）消费频次：分析用户对于企业的消费粘性\n",
    "（4）最近一次购买时间：作为会员消费价值粘性的评价因素\n",
    "（5）最近一次购买金额\n",
    "\n",
    "5. 会员终生价值指标：\n",
    "（1）会员生命周期价值/订单量/平均订单价值\n",
    "（2）会员生命周期价值\n",
    "（3）会员生命周期订单量\n",
    "（4）会员生命周期平均订单价值\n",
    "（5）会员生命周期转化率\n",
    "（6）会员生命周期剩余价值\n",
    "\n",
    "6. 会员异动指标：\n",
    "（1）会员流失率：会员流失率的数值、会员流失率的走向\n",
    "（2）会员异动比：会员异动比=新增购买会员/流失会员\n"
   ],
   "metadata": {
    "collapsed": false
   }
  },
  {
   "cell_type": "markdown",
   "source": [
    "## day 06-07 会员数据化运营应用场景\n",
    "\n",
    "1. 会员营销\n",
    "\n",
    "2. 会员关怀\n",
    "\n"
   ],
   "metadata": {
    "collapsed": false
   }
  },
  {
   "cell_type": "markdown",
   "source": [
    "# week 02 数据化运营中用户分析模型\n",
    "\n",
    "1. 会员数据化运营分析模型\n",
    "\n",
    "2. 数据化运营中用户分析模型——RFM模型\n",
    "\n",
    "由于确实是Python的菜鸡，在学习的道路中也遇到了几个困难：\n",
    "* 原先电脑中已经安装了python和pycharm，但没想到再安装anaconda时出现兼容性错误，因此决定不安装anaconda，利用pycharm去打开和编写.ipynb文件。\n",
    "* 利用pip及pycharm安装`time`、`sklearn`等库报错，无法下载安装\n",
    "* 对比R而产生的菜鸡问题：\n",
    "（1）RMarkdown(.Rmd)相对于.ipynb文件会有比较明显的板块可以把代码圈起来，.ipynb文件是否也可以只选中一行的代码或者这一个板块的代码运行？快捷键是？\n",
    "（2）`#%% md`的含义是？\n",
    "\n",
    "因此尝试用R语言实现RFM模型。\n"
   ],
   "metadata": {
    "collapsed": false,
    "pycharm": {
     "name": "#%% md\n"
    }
   }
  }
 ],
 "metadata": {
  "kernelspec": {
   "display_name": "Python 3",
   "language": "python",
   "name": "python3"
  },
  "language_info": {
   "codemirror_mode": {
    "name": "ipython",
    "version": 2
   },
   "file_extension": ".py",
   "mimetype": "text/x-python",
   "name": "python",
   "nbconvert_exporter": "python",
   "pygments_lexer": "ipython2",
   "version": "2.7.6"
  }
 },
 "nbformat": 4,
 "nbformat_minor": 0
}